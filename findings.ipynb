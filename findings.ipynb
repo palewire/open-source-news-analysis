{
 "cells": [
  {
   "cell_type": "markdown",
   "id": "e2fffa3c",
   "metadata": {},
   "source": [
    "# Open Source News Analysis\n",
    "\n",
    "By Ben Welsh and Scott Klein\n",
    "\n",
    "This notebook demonstrates the findings presented at the News Product Alliance conference on Oct. 24, 2025. It analyzes the decline of open source news projects over the past decade using data from GitHub repositories linked to news organizations."
   ]
  },
  {
   "cell_type": "markdown",
   "id": "165c6706",
   "metadata": {},
   "source": [
    "## Import Python and data"
   ]
  },
  {
   "cell_type": "code",
   "execution_count": 1,
   "id": "ea77022e",
   "metadata": {},
   "outputs": [],
   "source": [
    "from pathlib import Path\n",
    "\n",
    "import pandas as pd\n",
    "import altair as alt\n",
    "from rich import print"
   ]
  },
  {
   "cell_type": "code",
   "execution_count": 2,
   "id": "46aa919d",
   "metadata": {},
   "outputs": [
    {
     "data": {
      "text/plain": [
       "DataTransformerRegistry.enable('vegafusion')"
      ]
     },
     "execution_count": 2,
     "metadata": {},
     "output_type": "execute_result"
    }
   ],
   "source": [
    "# Allow for Altair to use the Vega Fusion renderer for large datasets\n",
    "alt.data_transformers.enable(\"vegafusion\")"
   ]
  },
  {
   "cell_type": "code",
   "execution_count": 3,
   "id": "c221e565",
   "metadata": {},
   "outputs": [],
   "source": [
    "org_repos_df = pd.read_csv(\n",
    "    Path(\".\") / \"data\" / \"transformed\" / \"org-repos.csv\",\n",
    "    parse_dates=[\"created_at\"],\n",
    ")"
   ]
  },
  {
   "cell_type": "code",
   "execution_count": 4,
   "id": "654c899f",
   "metadata": {},
   "outputs": [
    {
     "data": {
      "text/html": [
       "<div>\n",
       "<style scoped>\n",
       "    .dataframe tbody tr th:only-of-type {\n",
       "        vertical-align: middle;\n",
       "    }\n",
       "\n",
       "    .dataframe tbody tr th {\n",
       "        vertical-align: top;\n",
       "    }\n",
       "\n",
       "    .dataframe thead th {\n",
       "        text-align: right;\n",
       "    }\n",
       "</style>\n",
       "<table border=\"1\" class=\"dataframe\">\n",
       "  <thead>\n",
       "    <tr style=\"text-align: right;\">\n",
       "      <th></th>\n",
       "      <th>org</th>\n",
       "      <th>name</th>\n",
       "      <th>full_name</th>\n",
       "      <th>homepage</th>\n",
       "      <th>description</th>\n",
       "      <th>language</th>\n",
       "      <th>created_at</th>\n",
       "      <th>updated_at</th>\n",
       "      <th>pushed_at</th>\n",
       "      <th>stargazers_count</th>\n",
       "      <th>watchers_count</th>\n",
       "      <th>forks_count</th>\n",
       "      <th>open_issues_count</th>\n",
       "      <th>license</th>\n",
       "      <th>topics</th>\n",
       "    </tr>\n",
       "  </thead>\n",
       "  <tbody>\n",
       "    <tr>\n",
       "      <th>0</th>\n",
       "      <td>abcnews</td>\n",
       "      <td>.github</td>\n",
       "      <td>abcnews/.github</td>\n",
       "      <td>NaN</td>\n",
       "      <td>ABC public Github profile</td>\n",
       "      <td>NaN</td>\n",
       "      <td>2023-01-31 03:49:26+00:00</td>\n",
       "      <td>2023-01-31 03:49:26+00:00</td>\n",
       "      <td>2023-02-02 03:37:20+00:00</td>\n",
       "      <td>0</td>\n",
       "      <td>0</td>\n",
       "      <td>0</td>\n",
       "      <td>0</td>\n",
       "      <td>NaN</td>\n",
       "      <td>[]</td>\n",
       "    </tr>\n",
       "  </tbody>\n",
       "</table>\n",
       "</div>"
      ],
      "text/plain": [
       "       org     name        full_name homepage                description  \\\n",
       "0  abcnews  .github  abcnews/.github      NaN  ABC public Github profile   \n",
       "\n",
       "  language                created_at                 updated_at  \\\n",
       "0      NaN 2023-01-31 03:49:26+00:00  2023-01-31 03:49:26+00:00   \n",
       "\n",
       "                   pushed_at  stargazers_count  watchers_count  forks_count  \\\n",
       "0  2023-02-02 03:37:20+00:00                 0               0            0   \n",
       "\n",
       "   open_issues_count license topics  \n",
       "0                  0     NaN     []  "
      ]
     },
     "execution_count": 4,
     "metadata": {},
     "output_type": "execute_result"
    }
   ],
   "source": [
    "org_repos_df.head(1)"
   ]
  },
  {
   "cell_type": "markdown",
   "id": "aa11a64d",
   "metadata": {},
   "source": [
    "## Count the organizations and repositories"
   ]
  },
  {
   "cell_type": "code",
   "execution_count": 5,
   "id": "9612aa1d",
   "metadata": {},
   "outputs": [
    {
     "data": {
      "text/html": [
       "<pre style=\"white-space:pre;overflow-x:auto;line-height:normal;font-family:Menlo,'DejaVu Sans Mono',consolas,'Courier New',monospace\"><span style=\"color: #008080; text-decoration-color: #008080; font-weight: bold\">14</span>,<span style=\"color: #008080; text-decoration-color: #008080; font-weight: bold\">519</span> public repos\n",
       "</pre>\n"
      ],
      "text/plain": [
       "\u001b[1;36m14\u001b[0m,\u001b[1;36m519\u001b[0m public repos\n"
      ]
     },
     "metadata": {},
     "output_type": "display_data"
    }
   ],
   "source": [
    "print(f\"{len(org_repos_df):,} public repos\")"
   ]
  },
  {
   "cell_type": "code",
   "execution_count": 6,
   "id": "d84fe0ff",
   "metadata": {},
   "outputs": [
    {
     "data": {
      "text/html": [
       "<pre style=\"white-space:pre;overflow-x:auto;line-height:normal;font-family:Menlo,'DejaVu Sans Mono',consolas,'Courier New',monospace\">Released by <span style=\"color: #008080; text-decoration-color: #008080; font-weight: bold\">310</span> news organizations\n",
       "</pre>\n"
      ],
      "text/plain": [
       "Released by \u001b[1;36m310\u001b[0m news organizations\n"
      ]
     },
     "metadata": {},
     "output_type": "display_data"
    }
   ],
   "source": [
    "print(f\"Released by {org_repos_df.org.nunique()} news organizations\")"
   ]
  },
  {
   "cell_type": "code",
   "execution_count": 7,
   "id": "ae04aba4",
   "metadata": {},
   "outputs": [
    {
     "data": {
      "text/html": [
       "<pre style=\"white-space:pre;overflow-x:auto;line-height:normal;font-family:Menlo,'DejaVu Sans Mono',consolas,'Courier New',monospace\">From <span style=\"color: #008080; text-decoration-color: #008080; font-weight: bold\">2008</span> to <span style=\"color: #008080; text-decoration-color: #008080; font-weight: bold\">2025</span>.\n",
       "</pre>\n"
      ],
      "text/plain": [
       "From \u001b[1;36m2008\u001b[0m to \u001b[1;36m2025\u001b[0m.\n"
      ]
     },
     "metadata": {},
     "output_type": "display_data"
    }
   ],
   "source": [
    "print(\n",
    "    f\"From {org_repos_df['created_at'].min().year} to {org_repos_df['created_at'].max().year}.\"\n",
    ")"
   ]
  },
  {
   "cell_type": "markdown",
   "id": "e555a88e",
   "metadata": {},
   "source": [
    "## Analyze the trend over time"
   ]
  },
  {
   "cell_type": "code",
   "execution_count": 11,
   "id": "537f9445",
   "metadata": {},
   "outputs": [
    {
     "data": {
      "text/html": [
       "\n",
       "<style>\n",
       "  #altair-viz-4ef946615f2a4ebdbcb0251a8a938eaf.vega-embed {\n",
       "    width: 100%;\n",
       "    display: flex;\n",
       "  }\n",
       "\n",
       "  #altair-viz-4ef946615f2a4ebdbcb0251a8a938eaf.vega-embed details,\n",
       "  #altair-viz-4ef946615f2a4ebdbcb0251a8a938eaf.vega-embed details summary {\n",
       "    position: relative;\n",
       "  }\n",
       "</style>\n",
       "<div id=\"altair-viz-4ef946615f2a4ebdbcb0251a8a938eaf\"></div>\n",
       "<script type=\"text/javascript\">\n",
       "  var VEGA_DEBUG = (typeof VEGA_DEBUG == \"undefined\") ? {} : VEGA_DEBUG;\n",
       "  (function(spec, embedOpt){\n",
       "    let outputDiv = document.currentScript.previousElementSibling;\n",
       "    if (outputDiv.id !== \"altair-viz-4ef946615f2a4ebdbcb0251a8a938eaf\") {\n",
       "      outputDiv = document.getElementById(\"altair-viz-4ef946615f2a4ebdbcb0251a8a938eaf\");\n",
       "    }\n",
       "\n",
       "    const paths = {\n",
       "      \"vega\": \"https://cdn.jsdelivr.net/npm/vega@5?noext\",\n",
       "      \"vega-lib\": \"https://cdn.jsdelivr.net/npm/vega-lib?noext\",\n",
       "      \"vega-lite\": \"https://cdn.jsdelivr.net/npm/vega-lite@5.20.1?noext\",\n",
       "      \"vega-embed\": \"https://cdn.jsdelivr.net/npm/vega-embed@6?noext\",\n",
       "    };\n",
       "\n",
       "    function maybeLoadScript(lib, version) {\n",
       "      var key = `${lib.replace(\"-\", \"\")}_version`;\n",
       "      return (VEGA_DEBUG[key] == version) ?\n",
       "        Promise.resolve(paths[lib]) :\n",
       "        new Promise(function(resolve, reject) {\n",
       "          var s = document.createElement('script');\n",
       "          document.getElementsByTagName(\"head\")[0].appendChild(s);\n",
       "          s.async = true;\n",
       "          s.onload = () => {\n",
       "            VEGA_DEBUG[key] = version;\n",
       "            return resolve(paths[lib]);\n",
       "          };\n",
       "          s.onerror = () => reject(`Error loading script: ${paths[lib]}`);\n",
       "          s.src = paths[lib];\n",
       "        });\n",
       "    }\n",
       "\n",
       "    function showError(err) {\n",
       "      outputDiv.innerHTML = `<div class=\"error\" style=\"color:red;\">${err}</div>`;\n",
       "      throw err;\n",
       "    }\n",
       "\n",
       "    function displayChart(vegaEmbed) {\n",
       "      vegaEmbed(outputDiv, spec, embedOpt)\n",
       "        .catch(err => showError(`Javascript Error: ${err.message}<br>This usually means there's a typo in your chart specification. See the javascript console for the full traceback.`));\n",
       "    }\n",
       "\n",
       "    if(typeof define === \"function\" && define.amd) {\n",
       "      requirejs.config({paths});\n",
       "      let deps = [\"vega-embed\"];\n",
       "      require(deps, displayChart, err => showError(`Error loading script: ${err.message}`));\n",
       "    } else {\n",
       "      maybeLoadScript(\"vega\", \"5\")\n",
       "        .then(() => maybeLoadScript(\"vega-lite\", \"5.20.1\"))\n",
       "        .then(() => maybeLoadScript(\"vega-embed\", \"6\"))\n",
       "        .catch(showError)\n",
       "        .then(() => displayChart(vegaEmbed));\n",
       "    }\n",
       "  })({\"$schema\": \"https://vega.github.io/schema/vega/v5.json\", \"data\": [{\"name\": \"source_0\", \"values\": [{\"__count\": 513, \"year_created_at\": \"2023-01-01T00:00:00.000\"}, {\"__count\": 1212, \"year_created_at\": \"2019-01-01T00:00:00.000\"}, {\"__count\": 1727, \"year_created_at\": \"2015-01-01T00:00:00.000\"}, {\"__count\": 2056, \"year_created_at\": \"2017-01-01T00:00:00.000\"}, {\"__count\": 687, \"year_created_at\": \"2021-01-01T00:00:00.000\"}, {\"__count\": 1487, \"year_created_at\": \"2018-01-01T00:00:00.000\"}, {\"__count\": 1011, \"year_created_at\": \"2020-01-01T00:00:00.000\"}, {\"__count\": 687, \"year_created_at\": \"2022-01-01T00:00:00.000\"}, {\"__count\": 2096, \"year_created_at\": \"2016-01-01T00:00:00.000\"}, {\"__count\": 243, \"year_created_at\": \"2025-01-01T00:00:00.000\"}, {\"__count\": 345, \"year_created_at\": \"2024-01-01T00:00:00.000\"}, {\"__count\": 1227, \"year_created_at\": \"2014-01-01T00:00:00.000\"}, {\"__count\": 577, \"year_created_at\": \"2013-01-01T00:00:00.000\"}, {\"__count\": 356, \"year_created_at\": \"2012-01-01T00:00:00.000\"}, {\"__count\": 175, \"year_created_at\": \"2011-01-01T00:00:00.000\"}, {\"__count\": 97, \"year_created_at\": \"2010-01-01T00:00:00.000\"}, {\"__count\": 21, \"year_created_at\": \"2009-01-01T00:00:00.000\"}, {\"__count\": 2, \"year_created_at\": \"2008-01-01T00:00:00.000\"}], \"transform\": [{\"type\": \"formula\", \"expr\": \"toDate(datum['year_created_at'])\", \"as\": \"year_created_at\"}]}, {\"name\": \"source_0_x_domain_year_created_at\", \"values\": [{\"year_created_at\": \"2023-01-01T00:00:00.000\"}, {\"year_created_at\": \"2019-01-01T00:00:00.000\"}, {\"year_created_at\": \"2015-01-01T00:00:00.000\"}, {\"year_created_at\": \"2017-01-01T00:00:00.000\"}, {\"year_created_at\": \"2021-01-01T00:00:00.000\"}, {\"year_created_at\": \"2018-01-01T00:00:00.000\"}, {\"year_created_at\": \"2020-01-01T00:00:00.000\"}, {\"year_created_at\": \"2022-01-01T00:00:00.000\"}, {\"year_created_at\": \"2016-01-01T00:00:00.000\"}, {\"year_created_at\": \"2025-01-01T00:00:00.000\"}, {\"year_created_at\": \"2024-01-01T00:00:00.000\"}, {\"year_created_at\": \"2014-01-01T00:00:00.000\"}, {\"year_created_at\": \"2013-01-01T00:00:00.000\"}, {\"year_created_at\": \"2012-01-01T00:00:00.000\"}, {\"year_created_at\": \"2011-01-01T00:00:00.000\"}, {\"year_created_at\": \"2010-01-01T00:00:00.000\"}, {\"year_created_at\": \"2009-01-01T00:00:00.000\"}, {\"year_created_at\": \"2008-01-01T00:00:00.000\"}], \"transform\": [{\"type\": \"formula\", \"expr\": \"toDate(datum['year_created_at'])\", \"as\": \"year_created_at\"}]}, {\"name\": \"source_0_y_domain___count\", \"values\": [{\"min\": 2, \"max\": 2096}]}], \"marks\": [{\"type\": \"rect\", \"name\": \"marks\", \"from\": {\"data\": \"source_0\"}, \"encode\": {\"update\": {\"y2\": {\"value\": 0, \"scale\": \"y\"}, \"fill\": {\"value\": \"#4c78a8\"}, \"width\": {\"signal\": \"max(0.25, bandwidth('x'))\"}, \"y\": {\"field\": \"__count\", \"scale\": \"y\"}, \"x\": {\"field\": \"year_created_at\", \"scale\": \"x\"}, \"tooltip\": {\"signal\": \"{\\\"Year\\\": timeFormat(datum[\\\"year_created_at\\\"], timeUnitSpecifier([\\\"year\\\"], {\\\"year-month\\\":\\\"%b %Y \\\",\\\"year-month-date\\\":\\\"%b %d, %Y \\\"})), \\\"New repositories\\\": format(datum[\\\"__count\\\"], \\\"\\\")}\"}}}, \"style\": [\"bar\"]}], \"scales\": [{\"name\": \"x\", \"type\": \"band\", \"domain\": {\"data\": \"source_0_x_domain_year_created_at\", \"field\": \"year_created_at\", \"sort\": true}, \"range\": [0, {\"signal\": \"width\"}], \"paddingInner\": 0.1, \"paddingOuter\": 0.05}, {\"name\": \"y\", \"type\": \"linear\", \"domain\": [{\"signal\": \"(data(\\\"source_0_y_domain___count\\\")[0] || {}).min\"}, {\"signal\": \"(data(\\\"source_0_y_domain___count\\\")[0] || {}).max\"}], \"range\": [{\"signal\": \"height\"}, 0], \"nice\": true, \"zero\": true}], \"axes\": [{\"scale\": \"y\", \"orient\": \"left\", \"ticks\": false, \"minExtent\": 0, \"gridScale\": \"x\", \"domain\": false, \"grid\": true, \"zindex\": 0, \"tickCount\": {\"signal\": \"ceil(height/40)\"}, \"maxExtent\": 0, \"labels\": false, \"aria\": false}, {\"scale\": \"x\", \"formatType\": \"time\", \"orient\": \"bottom\", \"labelOverlap\": true, \"tickMinStep\": {\"signal\": \"datetime(2002, 0, 1, 0, 0, 0, 0) - datetime(2001, 0, 1, 0, 0, 0, 0)\"}, \"format\": {\"signal\": \"timeUnitSpecifier([\\\"year\\\"], {\\\"year-month\\\":\\\"%b %Y \\\",\\\"year-month-date\\\":\\\"%b %d, %Y \\\"})\"}, \"zindex\": 0, \"grid\": false}, {\"scale\": \"y\", \"grid\": false, \"labelOverlap\": true, \"orient\": \"left\", \"zindex\": 0, \"tickCount\": {\"signal\": \"ceil(height/40)\"}}], \"title\": {\"text\": \"New repositories by year\", \"frame\": \"group\"}, \"height\": 400, \"background\": \"white\", \"style\": \"cell\", \"padding\": 5, \"width\": 600}, {\"mode\": \"vega\"});\n",
       "</script>"
      ],
      "text/plain": [
       "alt.Chart(...)"
      ]
     },
     "execution_count": 11,
     "metadata": {},
     "output_type": "execute_result"
    }
   ],
   "source": [
    "alt.Chart(\n",
    "    org_repos_df, title=\"New repositories by year\", width=600, height=400\n",
    ").mark_bar().encode(\n",
    "    x=alt.X(\"year(created_at):O\", title=None),\n",
    "    y=alt.Y(\"count():Q\", title=None),\n",
    "    tooltip=[\n",
    "        alt.Tooltip(\"year(created_at):O\", title=\"Year\"),\n",
    "        alt.Tooltip(\"count():Q\", title=\"New repositories\"),\n",
    "    ],\n",
    ")"
   ]
  },
  {
   "cell_type": "code",
   "execution_count": 9,
   "id": "934807ed",
   "metadata": {},
   "outputs": [],
   "source": [
    "# Group and count by created year\n",
    "repos_by_year = (\n",
    "    org_repos_df.assign(created_year=org_repos_df[\"created_at\"].dt.year)\n",
    "    .groupby(\"created_year\")\n",
    "    .size()\n",
    "    .reset_index(name=\"repo_count\")\n",
    ")"
   ]
  },
  {
   "cell_type": "code",
   "execution_count": 28,
   "id": "4d6fbcea",
   "metadata": {},
   "outputs": [],
   "source": [
    "peak_year = repos_by_year.loc[repos_by_year[\"repo_count\"].idxmax()].repo_count\n",
    "last_year = repos_by_year.loc[\n",
    "    repos_by_year[\"created_year\"] == 2024, \"repo_count\"\n",
    "].values[0]"
   ]
  },
  {
   "cell_type": "code",
   "execution_count": 29,
   "id": "ab2507ab",
   "metadata": {},
   "outputs": [
    {
     "data": {
      "text/html": [
       "<pre style=\"white-space:pre;overflow-x:auto;line-height:normal;font-family:Menlo,'DejaVu Sans Mono',consolas,'Courier New',monospace\"><span style=\"color: #008080; text-decoration-color: #008080; font-weight: bold\">84</span>% decline in new repos from the peak year to last year.\n",
       "</pre>\n"
      ],
      "text/plain": [
       "\u001b[1;36m84\u001b[0m% decline in new repos from the peak year to last year.\n"
      ]
     },
     "metadata": {},
     "output_type": "display_data"
    }
   ],
   "source": [
    "print(\n",
    "    f\"{abs((last_year - peak_year) / peak_year * 100):.0f}% decline in new repos from the peak year to last year.\"\n",
    ")"
   ]
  },
  {
   "cell_type": "markdown",
   "id": "73b22c86",
   "metadata": {},
   "source": [
    "## Create a crosstab of organizations and repositories"
   ]
  },
  {
   "cell_type": "code",
   "execution_count": 33,
   "id": "fd24f5c7",
   "metadata": {},
   "outputs": [],
   "source": [
    "# Count the number of new repos by year\n",
    "org_repos_df[\"year\"] = org_repos_df[\"created_at\"].dt.year\n",
    "org_counts = org_repos_df.groupby([\"org\", \"year\"]).size().reset_index(name=\"count\")"
   ]
  },
  {
   "cell_type": "code",
   "execution_count": 34,
   "id": "a0f16ac3",
   "metadata": {},
   "outputs": [],
   "source": [
    "# Pivot that to be a wide format\n",
    "org_pivot = org_counts.pivot(index=\"org\", columns=\"year\", values=\"count\").fillna(0)"
   ]
  },
  {
   "cell_type": "code",
   "execution_count": 35,
   "id": "c009cf5c",
   "metadata": {},
   "outputs": [],
   "source": [
    "# Calculate the total number of repos for each org\n",
    "org_pivot[\"total\"] = org_pivot.sum(axis=1)"
   ]
  },
  {
   "cell_type": "code",
   "execution_count": 36,
   "id": "eb2dc0d4",
   "metadata": {},
   "outputs": [],
   "source": [
    "# Calculate the percentage change from 2016, the peak year, to 2024, the most recent year\n",
    "org_pivot[\"percent_change_16to24\"] = (org_pivot[2024] - org_pivot[2016]) / org_pivot[\n",
    "    2016\n",
    "]"
   ]
  },
  {
   "cell_type": "code",
   "execution_count": 38,
   "id": "4c382570",
   "metadata": {},
   "outputs": [],
   "source": [
    "# Go back to the org_df and calculate the most recent update_at time for each org\n",
    "latest_update = (\n",
    "    org_repos_df.groupby(\"org\")[\"updated_at\"]\n",
    "    .max()\n",
    "    .reset_index()\n",
    "    .rename(columns={\"updated_at\": \"latest_update\"})\n",
    ")"
   ]
  },
  {
   "cell_type": "code",
   "execution_count": 39,
   "id": "def04a16",
   "metadata": {},
   "outputs": [],
   "source": [
    "# Merge that on to the pivot\n",
    "org_pivot = org_pivot.merge(latest_update, on=\"org\", how=\"left\")"
   ]
  },
  {
   "cell_type": "code",
   "execution_count": 41,
   "id": "6a2068aa",
   "metadata": {},
   "outputs": [],
   "source": [
    "# Write out the data\n",
    "org_pivot.to_csv(Path(\".\") / \"data\" / \"transformed\" / \"org-activity.csv\", index=False)"
   ]
  }
 ],
 "metadata": {
  "kernelspec": {
   "display_name": "open-source-news-analysis",
   "language": "python",
   "name": "python3"
  },
  "language_info": {
   "codemirror_mode": {
    "name": "ipython",
    "version": 3
   },
   "file_extension": ".py",
   "mimetype": "text/x-python",
   "name": "python",
   "nbconvert_exporter": "python",
   "pygments_lexer": "ipython3",
   "version": "3.13.2"
  }
 },
 "nbformat": 4,
 "nbformat_minor": 5
}
